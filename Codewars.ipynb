{
 "cells": [
  {
   "cell_type": "markdown",
   "metadata": {},
   "source": [
    "# Codewars:"
   ]
  },
  {
   "cell_type": "markdown",
   "metadata": {},
   "source": [
    "## 6 kyu"
   ]
  },
  {
   "cell_type": "code",
   "execution_count": null,
   "metadata": {},
   "outputs": [],
   "source": [
    "#Tortoise racing\n",
    "def race(v1, v2, g):\n",
    "    if v1 >= v2:\n",
    "        return None\n",
    "    else:\n",
    "        t = (g*3600)/(v2-v1)\n",
    "        h = int(t/3600)\n",
    "        m = int((t%3600)/60)\n",
    "        s = int(t%60)\n",
    "    return [h,m,s]"
   ]
  },
  {
   "cell_type": "code",
   "execution_count": null,
   "metadata": {},
   "outputs": [],
   "source": [
    "#Highest Rank Number in an Array\n",
    "def highest_rank(arr):\n",
    "    count = {x:0 for x in arr}\n",
    "    for i in arr:\n",
    "        count[i] += 1\n",
    "    maxValue = max(count.values())\n",
    "    tie = [key for key in count if count[key]==maxValue]\n",
    "    return max(tie)"
   ]
  },
  {
   "cell_type": "code",
   "execution_count": null,
   "metadata": {},
   "outputs": [],
   "source": [
    "#Count characters in your string\n",
    "def count(string):\n",
    "    count = {x:0 for x in string}\n",
    "    for i in string:\n",
    "        count[i] += 1\n",
    "    return count"
   ]
  },
  {
   "cell_type": "code",
   "execution_count": null,
   "metadata": {},
   "outputs": [],
   "source": [
    "#Find the odd int\n",
    "def find_it(seq):\n",
    "    count = {x:0 for x in seq}\n",
    "    for i in seq:\n",
    "        count[i] += 1\n",
    "    for x,y in count.items():\n",
    "        if y % 2 != 0:\n",
    "            return x"
   ]
  },
  {
   "cell_type": "code",
   "execution_count": null,
   "metadata": {},
   "outputs": [],
   "source": [
    "#Delete occurrences of an element if it occurs more than n times\n",
    "def delete_nth(order,max_e):\n",
    "    count = {x:0 for x in order}\n",
    "    new = []\n",
    "    for i in order:\n",
    "        if count[i] < max_e:\n",
    "            new.append(i)\n",
    "            count[i] += 1\n",
    "    return new\n",
    "#This doesn't delete the first occurrence\n",
    "def delete_nth(order,max_e):\n",
    "    [order.remove(i) for i in order if order.count(i) > max_e]\n",
    "    return order"
   ]
  },
  {
   "cell_type": "code",
   "execution_count": null,
   "metadata": {},
   "outputs": [],
   "source": [
    "#Multi-tap Keypad Text Entry on an Old Mobile Phone\n",
    "def presses(phrase):\n",
    "    keypad = ['1','abc2','def3','ghi4','jkl5','mno6','pqrs7','tuv8','wxyz9','*',' 0','#']\n",
    "    return sum([(j.index(i)+1) for i in phrase.lower() for j in keypad if i in j])"
   ]
  },
  {
   "cell_type": "code",
   "execution_count": null,
   "metadata": {},
   "outputs": [],
   "source": [
    "#Replace With Alphabet Position\n",
    "def alphabet_position(text):\n",
    "    alphabet = 'abcdefghijklmnopqrstuvwxyzabcdefghijklmnopqrstuvwxyz'\n",
    "    index = [(alphabet.index(i) + 1) for i in text.replace(\" \", \"\").casefold() if i in alphabet]\n",
    "    return \" \".join([str(integer) for integer in index])"
   ]
  },
  {
   "cell_type": "code",
   "execution_count": null,
   "metadata": {},
   "outputs": [],
   "source": [
    "#Find the unique number\n",
    "def find_uniq(arr):\n",
    "    n = sorted(arr)\n",
    "    return n[0] if n[0] != n[1] else n[-1]"
   ]
  },
  {
   "cell_type": "code",
   "execution_count": null,
   "metadata": {},
   "outputs": [],
   "source": [
    "#Title Case\n",
    "def title_case(title, minor_words=''):\n",
    "    if len(title) > 0:\n",
    "        new = [i.lower() if i.lower() in minor_words.lower().split() else i.capitalize() for i in title.split()]\n",
    "        return ' '.join([''.join(new[0].capitalize()),' '.join(new[1:])]).rstrip()\n",
    "    else:\n",
    "        return title"
   ]
  },
  {
   "cell_type": "code",
   "execution_count": null,
   "metadata": {},
   "outputs": [],
   "source": [
    "#Rot13\n",
    "def rot13(message):\n",
    "    alphabet = 'abcdefghijklmnopqrstuvwxyzabcdefghijklmnopqrstuvwxyzABCDEFGHIJKLMNOPQRSTUVWXYZABCDEFGHIJKLMNOPQRSTUVWXYZ'\n",
    "    new = ''\n",
    "    for i in message:\n",
    "        if i in alphabet:\n",
    "            ind = alphabet.index(i) + 13\n",
    "            new += alphabet[ind]\n",
    "        else:\n",
    "            new += i\n",
    "    return new"
   ]
  },
  {
   "cell_type": "code",
   "execution_count": null,
   "metadata": {},
   "outputs": [],
   "source": [
    "#Format a string of names like 'Bart, Lisa & Maggie'\n",
    "def namelist(names):\n",
    "    name=[sub['name'] for sub in names]\n",
    "    if len(names) <= 1:\n",
    "        return ''.join(name)\n",
    "    else:\n",
    "        all_but_last = ', '.join(name[:-1])\n",
    "        last = name[-1]\n",
    "        return ' & '.join([all_but_last, last])"
   ]
  },
  {
   "cell_type": "markdown",
   "metadata": {},
   "source": [
    "## 7 kyu"
   ]
  },
  {
   "cell_type": "code",
   "execution_count": null,
   "metadata": {},
   "outputs": [],
   "source": [
    "#Complementary DNA\n",
    "def DNA_strand(dna):\n",
    "    rna_dict = {'A':'T', 'T':'A', 'C':'G', 'G':'C'}\n",
    "    complementary_strand = ''.join([rna_dict.get(x,x) for x in list(dna)])\n",
    "    return complementary_strand"
   ]
  },
  {
   "cell_type": "code",
   "execution_count": null,
   "metadata": {},
   "outputs": [],
   "source": [
    "#Highest and Lowest\n",
    "def high_and_low(numbers):\n",
    "    numbers = [int(i) for i in numbers.split()]\n",
    "    strings = [str(x) for x in sorted(numbers)]\n",
    "    return \" \".join([strings[-1],strings[0]])\n",
    "#OR\n",
    "def high_and_low(numbers):\n",
    "    numbers = [int(i) for i in numbers.split()]\n",
    "    return str(max(numbers)) + ' ' + str(min(numbers))"
   ]
  },
  {
   "cell_type": "code",
   "execution_count": null,
   "metadata": {},
   "outputs": [],
   "source": [
    "#Sum of two lowest positive integers\n",
    "def sum_two_smallest_numbers(numbers):\n",
    "    new = [n for n in numbers if n >=0]\n",
    "    new.sort()\n",
    "    return new[0] + new[1]"
   ]
  },
  {
   "cell_type": "code",
   "execution_count": null,
   "metadata": {},
   "outputs": [],
   "source": [
    "#Vowel Count\n",
    "def getCount(inputStr):\n",
    "    num_vowels = 0\n",
    "    vowels = 'aeiou'\n",
    "    for i in inputStr:\n",
    "        if i in vowels:\n",
    "            num_vowels += 1\n",
    "    return num_vowels"
   ]
  },
  {
   "cell_type": "code",
   "execution_count": null,
   "metadata": {},
   "outputs": [],
   "source": [
    "#Shortest Word\n",
    "def find_short(s):\n",
    "    l = min(len(i) for i in s.split())\n",
    "    return l"
   ]
  },
  {
   "cell_type": "code",
   "execution_count": null,
   "metadata": {},
   "outputs": [],
   "source": [
    "#Binary Addition\n",
    "def add_binary(a,b):\n",
    "    return '{0:b}'.format(a + b)"
   ]
  },
  {
   "cell_type": "markdown",
   "metadata": {},
   "source": [
    "## 8 kyu"
   ]
  },
  {
   "cell_type": "code",
   "execution_count": null,
   "metadata": {},
   "outputs": [],
   "source": [
    "#Sum of positive\n",
    "def positive_sum(arr):\n",
    "    new=[]\n",
    "    for i in arr:\n",
    "        if i > 0:\n",
    "            new.append(i)\n",
    "    return sum(new)"
   ]
  },
  {
   "cell_type": "code",
   "execution_count": null,
   "metadata": {},
   "outputs": [],
   "source": [
    "#Remove String Spaces\n",
    "def no_space(x):\n",
    "    new = x.split()\n",
    "    return \"\".join(new)"
   ]
  },
  {
   "cell_type": "code",
   "execution_count": null,
   "metadata": {},
   "outputs": [],
   "source": [
    "#Return Negative\n",
    "def make_negative(number):\n",
    "    if number > 0:\n",
    "        return -number\n",
    "    else:\n",
    "        return number"
   ]
  },
  {
   "cell_type": "code",
   "execution_count": null,
   "metadata": {},
   "outputs": [],
   "source": [
    "#Multiply\n",
    "def multiply(a, b):\n",
    "    return a * b"
   ]
  }
 ],
 "metadata": {
  "kernelspec": {
   "display_name": "Python 3",
   "language": "python",
   "name": "python3"
  },
  "language_info": {
   "codemirror_mode": {
    "name": "ipython",
    "version": 3
   },
   "file_extension": ".py",
   "mimetype": "text/x-python",
   "name": "python",
   "nbconvert_exporter": "python",
   "pygments_lexer": "ipython3",
   "version": "3.7.4"
  }
 },
 "nbformat": 4,
 "nbformat_minor": 2
}
